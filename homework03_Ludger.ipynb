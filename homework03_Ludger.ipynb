{
  "nbformat": 4,
  "nbformat_minor": 0,
  "metadata": {
    "colab": {
      "name": "homework03",
      "provenance": [],
      "collapsed_sections": []
    },
    "kernelspec": {
      "name": "python3",
      "display_name": "Python 3"
    }
  },
  "cells": [
    {
      "cell_type": "code",
      "metadata": {
        "id": "jmI5criP--pz"
      },
      "source": [
        "import numpy as np\n",
        "import tensorflow as tf\n",
        "import matplotlib.pyplot as plt\n",
        "import tensorflow_datasets as tfds"
      ],
      "execution_count": 36,
      "outputs": []
    },
    {
      "cell_type": "code",
      "metadata": {
        "id": "Hg26X24-MWhy"
      },
      "source": [
        "# One hot function\n",
        "def onehotify(tensor):\n",
        "  vocab = {'A':'1', 'C': '2', 'G':'3', 'T':'0'}\n",
        "  for key in vocab.keys():\n",
        "    tensor = tf.strings.regex_replace(tensor, key, vocab[key])\n",
        "  split = tf.strings.bytes_split(tensor)\n",
        "  labels = tf.cast(tf.strings.to_number(split), tf.uint8)\n",
        "  onehot = tf.one_hot(labels, 4)\n",
        "  onehot = tf.reshape(onehot, (-1,))\n",
        "  return onehot"
      ],
      "execution_count": 37,
      "outputs": []
    },
    {
      "cell_type": "markdown",
      "metadata": {
        "id": "cKOmA5aaLTt9"
      },
      "source": [
        "Load the dataset"
      ]
    },
    {
      "cell_type": "code",
      "metadata": {
        "id": "NxGX9odcLZ66"
      },
      "source": [
        "# load the training and test dataset\n",
        "train_dataset, test_dataset = tfds.load(\"genomics_ood\", split=[\"train[:100000]\", \"test[:1000]\"],  shuffle_files = True, as_supervised=True)\n",
        "\n",
        "# preprocess the train_dataset\n",
        "# we want the samples to be one hot encoded\n",
        "train_dataset = train_dataset.map(lambda sample, target: (onehotify(sample), tf.one_hot(target, 10)))\n",
        "# sampling 64 samples \n",
        "train_dataset = train_dataset.batch(64)\n",
        "\n",
        "# preprocess the test_dataset\n",
        "test_dataset = test_dataset.map(lambda sample, target: (onehotify(sample), tf.one_hot(target, 10)))\n",
        "test_dataset = test_dataset.batch(64)"
      ],
      "execution_count": 38,
      "outputs": []
    },
    {
      "cell_type": "markdown",
      "metadata": {
        "id": "37nv5QikTwK_"
      },
      "source": [
        "Build the model"
      ]
    },
    {
      "cell_type": "code",
      "metadata": {
        "id": "O7a_1qXNTtAj"
      },
      "source": [
        "from tensorflow.keras import Model\n",
        "from tensorflow.keras.layers import Layer\n",
        "\n",
        "class Model(Model):\n",
        "\n",
        "  def __init__(self):\n",
        "    super(Model, self).__init__()\n",
        "    # Define the layers\n",
        "    self.hidden_layer_1 = tf.keras.layers.Dense(units=256, activation=tf.keras.activations.sigmoid)\n",
        "    self.hidden_layer_2 = tf.keras.layers.Dense(units=256, activation=tf.keras.activations.sigmoid)\n",
        "    self.output_layer = tf.keras.layers.Dense(units=10, activation=tf.keras.activations.softmax)\n",
        "\n",
        "  @tf.function\n",
        "  def call(self, x):\n",
        "    # Define the forward step\n",
        "    x = self.hidden_layer_1(x)\n",
        "    x= self.hidden_layer_2(x)\n",
        "    x = self.output_layer(x)\n",
        "    return x "
      ],
      "execution_count": 39,
      "outputs": []
    },
    {
      "cell_type": "markdown",
      "metadata": {
        "id": "KRQtnmtdKmyR"
      },
      "source": [
        "Train the model"
      ]
    },
    {
      "cell_type": "code",
      "metadata": {
        "id": "bjv8DXpJKgLG"
      },
      "source": [
        "def train_step(model, input, target, loss_function, optimizer):\n",
        "  with tf.GradientTape() as tape:\n",
        "    prediction = model(input)\n",
        "    loss = loss_function(target, prediction)\n",
        "    gradients = tape.gradient(loss, model.trainable_variables)\n",
        "  optimizer.apply_gradients(zip(gradients, model.trainable_variables))\n",
        "  return loss\n",
        "\n",
        "# our test method to test how good our model performs with the learned parameters\n",
        "def test(model, test_data, loss_function):\n",
        "  # test over complete test data\n",
        "\n",
        "  test_accuracy_aggregator = []\n",
        "  test_loss_aggregator = []\n",
        "\n",
        "  for (input, target) in test_data:\n",
        "    prediction = model(input)\n",
        "    sample_test_loss = loss_function(target, prediction)\n",
        "    # test if the prediction of the model made was correct by checking if the the entry with the \n",
        "    # highest probability is also the desired output\n",
        "    sample_test_accuracy = np.argmax(target, axis=1) == np.argmax(prediction, axis=1)\n",
        "    sample_test_accuracy = np.mean(sample_test_accuracy)\n",
        "    test_loss_aggregator.append(sample_test_loss.numpy())\n",
        "    test_accuracy_aggregator.append(np.mean(sample_test_accuracy))\n",
        "\n",
        "  test_loss = np.mean(test_loss_aggregator)\n",
        "  test_accuracy = np.mean(test_accuracy_aggregator)\n",
        "\n",
        "  return test_loss, test_accuracy"
      ],
      "execution_count": 40,
      "outputs": []
    },
    {
      "cell_type": "code",
      "metadata": {
        "id": "kz_6dflNQ9os",
        "outputId": "cd460613-27ee-49ec-91f7-2de4552b727d",
        "colab": {
          "base_uri": "https://localhost:8080/"
        }
      },
      "source": [
        "tf.keras.backend.clear_session()\n",
        "\n",
        "# Hyperparameters\n",
        "num_epochs = 10\n",
        "learning_rate = 0.1\n",
        "running_average_factor = 0.95\n",
        "\n",
        "# Initialize the model\n",
        "model = Model()\n",
        "# Initialize the loss: categorical cross entropy.\n",
        "cross_entropy_loss = tf.keras.losses.CategoricalCrossentropy()\n",
        "# Initialize optimizer SGD\n",
        "optimizer = tf.keras.optimizers.SGD(learning_rate)\n",
        "\n",
        "# Initialize lists for later visualization\n",
        "train_losses = []\n",
        "test_losses = []\n",
        "train_accuracies = []\n",
        "test_accuracies = []\n",
        "\n",
        "# testing once before we begin\n",
        "test_loss, test_accuracy = test(model, test_dataset, cross_entropy_loss)\n",
        "test_losses.append(test_loss)\n",
        "test_accuracies.append(test_accuracy)\n",
        "\n",
        "# check how model performs on train data once before we begin\n",
        "train_loss, train_accuracy = test(model, train_dataset, cross_entropy_loss)\n",
        "train_losses.append(train_loss)\n",
        "train_accuracies.append(train_accuracy)\n",
        "\n",
        "# train for 10 epochs (num_epochs)\n",
        "for epoch in range(num_epochs):\n",
        "  print(\"Epoch: \" + str(epoch))\n",
        "\n",
        "  train_dataset = train_dataset.shuffle(buffer_size=64)\n",
        "  test_dataset = test_dataset.shuffle(buffer_size=64)\n",
        "\n",
        "  # training and checking in with training\n",
        "  running_average = 0\n",
        "  for (input, target) in train_dataset:\n",
        "    train_loss = train_step(model, input, target, cross_entropy_loss, optimizer)\n",
        "    running_average = running_average_factor * running_average + (1 - running_average_factor) * train_loss\n",
        "\n",
        "  train_losses.append(running_average)\n",
        "  _,train_accuracy = test(model, train_dataset, cross_entropy_loss)\n",
        "  train_accuracies.append(train_accuracy)\n",
        "\n",
        "  # testing\n",
        "  test_loss, test_accuracy = test(model, test_dataset, cross_entropy_loss)\n",
        "  test_losses.append(test_loss)\n",
        "  test_accuracies.append(test_accuracy)"
      ],
      "execution_count": 41,
      "outputs": [
        {
          "output_type": "stream",
          "text": [
            "Epoch: 0\n",
            "Epoch: 1\n",
            "Epoch: 2\n",
            "Epoch: 3\n",
            "Epoch: 4\n",
            "Epoch: 5\n",
            "Epoch: 6\n",
            "Epoch: 7\n",
            "Epoch: 8\n",
            "Epoch: 9\n"
          ],
          "name": "stdout"
        }
      ]
    },
    {
      "cell_type": "markdown",
      "metadata": {
        "id": "pOSLNeDcosKl"
      },
      "source": [
        "Visualizing"
      ]
    },
    {
      "cell_type": "code",
      "metadata": {
        "id": "-ZuwlJh4gbup",
        "outputId": "2a805744-534b-49b6-9e1a-0d768b228389",
        "colab": {
          "base_uri": "https://localhost:8080/",
          "height": 350
        }
      },
      "source": [
        "# Visualize accuracy and loss for training and test data\n",
        "\n",
        "fig, axes = plt.subplots(1, 2, figsize=(15, 5))\n",
        "# One plot training and test loss\n",
        "axes[0].plot(train_losses, label=\"Training\")\n",
        "axes[0].plot(test_losses, label=\"Testing\")\n",
        "axes[0].set(title=\"Loss of Training and Test Data\", xlabel=\"Training steps\", ylabel=\"Loss\")\n",
        "axes[0].legend(fontsize=15)\n",
        "\n",
        "# One plot training and test accuracy\n",
        "axes[1].plot(train_accuracies, label=\"Training\")\n",
        "axes[1].plot(test_accuracies, label=\"Testing\")\n",
        "axes[1].set(title=\"Accuracy of Trainig and Test Dataset\", xlabel=\"Training steps\", ylabel=\"Accuracy\")\n",
        "axes[1].legend(fontsize=15)\n",
        "plt.show()"
      ],
      "execution_count": 42,
      "outputs": [
        {
          "output_type": "display_data",
          "data": {
            "image/png": "[encoded data removed]",
            "text/plain": [
              "<Figure size 1080x360 with 2 Axes>"
            ]
          },
          "metadata": {
            "tags": [],
            "needs_background": "light"
          }
        }
      ]
    }
  ]
}