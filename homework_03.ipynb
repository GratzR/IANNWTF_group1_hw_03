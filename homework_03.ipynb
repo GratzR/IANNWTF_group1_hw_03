{
 "cells": [
  {
   "cell_type": "code",
   "execution_count": 1,
   "metadata": {},
   "outputs": [],
   "source": [
    "import numpy as np\n",
    "\n",
    "import tensorflow as tf\n",
    "import matplotlib.pyplot as plt\n",
    "\n",
    "import tensorflow_datasets as tfds"
   ]
  },
  {
   "cell_type": "code",
   "execution_count": 2,
   "metadata": {},
   "outputs": [],
   "source": [
    "def onehotify(tensor):\n",
    "    vocab = {'A':'1', 'C': '2', 'G':'3', 'T':'0'} \n",
    "    \n",
    "    for key in vocab.keys():\n",
    "        tensor = tf.strings.regex_replace(tensor, key, vocab[key]) \n",
    "    \n",
    "    split = tf.strings.bytes_split(tensor)\n",
    "    labels = tf.cast(tf.strings.to_number(split), tf.uint8) \n",
    "    onehot = tf.one_hot(labels, 4)\n",
    "    onehot = tf.reshape(onehot, (-1,)) \n",
    "    \n",
    "    return onehot"
   ]
  },
  {
   "cell_type": "code",
   "execution_count": 3,
   "metadata": {},
   "outputs": [],
   "source": [
    "# load \"genomics_ood\" dataset, split into first 100.000 training and first 1.000 testing samples and shuffle them\n",
    "train_data, test_data = tfds.load('genomics_ood', split=['train[:100000]', 'test[:1000]'], shuffle_files=True, as_supervised=True)\n",
    "\n",
    "# the map function calls the lambda function for every single entry of the dataset\n",
    "# samples are transformed by the formerly defined onehotify function\n",
    "# targets are transformed by the tensorflow inbuild function tf.one_hot with depth=10, being the number of possible distinct classifications\n",
    "train_data = train_data.map(lambda sample, target: (onehotify(sample), tf.one_hot(target,depth=10)))\n",
    "# next samples are formatted to batches, containing 32 samples each\n",
    "train_data = train_data.batch(32)\n",
    "# use free computing resources to prepare (up to 10) next training batches\n",
    "train_data = train_data.prefetch(10)\n",
    "\n",
    "#we are doing the same thing for the testing data\n",
    "test_data = test_data.map(lambda sample, target: (onehotify(sample), tf.one_hot(target,depth=10)))\n",
    "test_data = test_data.batch(32)\n",
    "test_data = test_data.prefetch(10)\n"
   ]
  },
  {
   "cell_type": "code",
   "execution_count": 4,
   "metadata": {},
   "outputs": [],
   "source": [
    "from tensorflow.keras import Model\n",
    "from tensorflow.keras.layers import Layer\n",
    "\n",
    "class Model(Model): \n",
    "    \n",
    "    def __init__(self):\n",
    "        super(Model, self).__init__()\n",
    "        # Define the three layers.\n",
    "        self.hidden_layer_1 = tf.keras.layers.Dense(units=256,\n",
    "                                               activation=tf.keras.activations.sigmoid\n",
    "                                               )\n",
    "        self.hidden_layer_2 = tf.keras.layers.Dense(units=256,\n",
    "                                               activation=tf.keras.activations.sigmoid\n",
    "                                               )\n",
    "        self.output_layer = tf.keras.layers.Dense(units=10,\n",
    "                                               activation=tf.keras.activations.softmax\n",
    "                                               )\n",
    "    def call(self, x):\n",
    "        # Define the forward step.\n",
    "        x = self.hidden_layer_1(x)\n",
    "        x = self.hidden_layer_2(x)\n",
    "        x = self.output_layer(x)\n",
    "        return x"
   ]
  },
  {
   "cell_type": "code",
   "execution_count": 5,
   "metadata": {},
   "outputs": [],
   "source": [
    "def train_step(model, input, target, loss_function, optimizer):\n",
    "    # loss_object and optimizer_object are instances of respective tensorflow classes\n",
    "    with tf.GradientTape() as tape:\n",
    "        prediction = model(input)\n",
    "        loss = loss_function(target, prediction)\n",
    "        gradients = tape.gradient(loss, model.trainable_variables)\n",
    "    optimizer.apply_gradients(zip(gradients, model.trainable_variables))\n",
    "    return loss \n",
    "\n",
    "def test(model, test_data, loss_function):\n",
    "    # test over complete test data\n",
    "    test_accuracy_aggregator = []\n",
    "    test_loss_aggregator = []\n",
    "\n",
    "    for (input, target) in test_data:\n",
    "        prediction = model(input)\n",
    "        sample_test_loss = loss_function(target, prediction)\n",
    "        sample_test_accuracy =  np.argmax(target, axis=1) == np.argmax(prediction, axis=1)\n",
    "        sample_test_accuracy = np.mean(sample_test_accuracy)\n",
    "        test_loss_aggregator.append(sample_test_loss.numpy())\n",
    "        test_accuracy_aggregator.append(np.mean(sample_test_accuracy))\n",
    "\n",
    "    test_loss = np.mean(test_loss_aggregator)\n",
    "    test_accuracy = np.mean(test_accuracy_aggregator)\n",
    "\n",
    "    return test_loss, test_accuracy"
   ]
  },
  {
   "cell_type": "code",
   "execution_count": 8,
   "metadata": {},
   "outputs": [
    {
     "name": "stdout",
     "output_type": "stream",
     "text": [
      "Epoch: __ 0\n",
      "Epoch: __ 1\n",
      "Epoch: __ 2\n",
      "Epoch: __ 3\n",
      "Epoch: __ 4\n",
      "Epoch: __ 5\n",
      "Epoch: __ 6\n",
      "Epoch: __ 7\n",
      "Epoch: __ 8\n",
      "Epoch: __ 9\n"
     ]
    }
   ],
   "source": [
    "tf.keras.backend.clear_session()\n",
    "\n",
    "### Hyperparameters\n",
    "num_epochs = 10\n",
    "learning_rate = 0.1\n",
    "running_average_factor = 0.95\n",
    "\n",
    "# Initialize the model.\n",
    "model = Model()\n",
    "# Initialize the loss: categorical cross entropy. Check out 'tf.keras.losses'.\n",
    "cross_entropy_loss = tf.keras.losses.CategoricalCrossentropy()\n",
    "# Initialize the optimizer: Adam with default parameters. Check out 'tf.keras.optimizers'\n",
    "optimizer = tf.keras.optimizers.SGD(learning_rate)\n",
    "\n",
    "# Initialize lists for later visualization.\n",
    "train_losses = []\n",
    "\n",
    "test_losses = []\n",
    "test_accuracies = []\n",
    "train_accuracies = []\n",
    "\n",
    "#testing once before we begin\n",
    "test_loss, test_accuracy = test(model, test_data, cross_entropy_loss)\n",
    "test_losses.append(test_loss)\n",
    "test_accuracies.append(test_accuracy)\n",
    "\n",
    "#check how model performs on train data once before we begin\n",
    "train_loss, train_accuracy = test(model, train_data, cross_entropy_loss)\n",
    "train_losses.append(train_loss)\n",
    "train_accuracies.append(train_accuracy)\n",
    "\n",
    "# We train for num_epochs epochs.\n",
    "for epoch in range(num_epochs):\n",
    "    print('Epoch: __ ' + str(epoch))\n",
    "\n",
    "    train_data = train_data.shuffle(buffer_size=128)\n",
    "    test_data = test_data.shuffle(buffer_size=128)\n",
    "\n",
    "    #training (and checking in with training)\n",
    "    running_average = 0\n",
    "    for (input,target) in train_data:\n",
    "        train_loss = train_step(model, input, target, cross_entropy_loss, optimizer)\n",
    "        running_average = running_average_factor * running_average  + (1 - running_average_factor) * train_loss\n",
    "    train_losses.append(running_average)\n",
    "    \n",
    "    _,train_accuracy = test(model, train_data, cross_entropy_loss)\n",
    "    train_accuracies.append(train_accuracy)\n",
    "\n",
    "    #testing\n",
    "    test_loss, test_accuracy = test(model, test_data, cross_entropy_loss)\n",
    "    test_losses.append(test_loss)\n",
    "    test_accuracies.append(test_accuracy)"
   ]
  },
  {
   "cell_type": "code",
   "execution_count": 10,
   "metadata": {},
   "outputs": [
    {
     "data": {
      "image/png": "[encoded data removed]",
      "text/plain": [
       "<Figure size 1080x360 with 2 Axes>"
      ]
     },
     "metadata": {
      "needs_background": "light"
     },
     "output_type": "display_data"
    }
   ],
   "source": [
    "# Visualize accuracy and loss for training and test data\n",
    "\n",
    "fig, axes = plt.subplots(1, 2, figsize=(15, 5))\n",
    "# One plot training and test loss\n",
    "axes[0].plot(train_losses, label=\"Training\")\n",
    "axes[0].plot(test_losses, label=\"Testing\")\n",
    "axes[0].set(title=\"Loss of Training and Test Data\", xlabel=\"Training steps\", ylabel=\"Loss\")\n",
    "axes[0].legend(fontsize=15)\n",
    "\n",
    "# One plot training and test accuracy\n",
    "axes[1].plot(train_accuracies, label=\"Training\")\n",
    "axes[1].plot(test_accuracies, label=\"Testing\")\n",
    "axes[1].set(title=\"Accuracy of Trainig and Test Dataset\", xlabel=\"Training steps\", ylabel=\"Accuracy\")\n",
    "axes[1].legend(fontsize=15)\n",
    "plt.show()"
   ]
  }
 ],
 "metadata": {
  "kernelspec": {
   "display_name": "Python 3",
   "language": "python",
   "name": "python3"
  },
  "language_info": {
   "codemirror_mode": {
    "name": "ipython",
    "version": 3
   },
   "file_extension": ".py",
   "mimetype": "text/x-python",
   "name": "python",
   "nbconvert_exporter": "python",
   "pygments_lexer": "ipython3",
   "version": "3.7.9"
  }
 },
 "nbformat": 4,
 "nbformat_minor": 4
}
